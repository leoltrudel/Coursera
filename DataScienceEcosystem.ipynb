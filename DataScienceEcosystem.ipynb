{
 "cells": [
  {
   "cell_type": "markdown",
   "id": "eb3a4ef9-64d5-446e-a816-5bebccf0022b",
   "metadata": {},
   "source": [
    "# Data Science Tools and Ecosystem"
   ]
  },
  {
   "cell_type": "markdown",
   "id": "e548ee0f-6b3c-412f-987d-4a7f8f7dd5e6",
   "metadata": {},
   "source": [
    "# In this notebook, Data Science Tools and Ecosystem are summarized."
   ]
  },
  {
   "cell_type": "markdown",
   "id": "b4ceb0c0-71f5-4a14-af52-adc8c2c57d4d",
   "metadata": {},
   "source": [
    "**Objectives:**\n",
    "- Create a Jupyter Notebook\n",
    "- Create markdown cell with title of the notebook\n",
    "- Create a markdown cell to list data science languages\n",
    "- Create a markdown cell to list data science libraries\n",
    "- Create a markdown cell with a table of Data Science tools\n",
    "- Create a markdown cell introducing arithmetic expression examples\n",
    "- Create a code cell to multiply and add numbers\n",
    "- Create a code cell to convert minutes to hours\n",
    "- Insert a markdown cell to list Objectives\n",
    "- Create a markdown cell to indicate the Author's name\n",
    "- Share your notebook through GitHub\n",
    "- Take a screenshot of the first page of the notebook and save it as 1-notebook.png"
   ]
  },
  {
   "cell_type": "markdown",
   "id": "87453ab1-95dc-4161-b587-e975f7b4dfb3",
   "metadata": {},
   "source": [
    "# Some of the popular languages that Data Scientists use are:\n",
    "1. Python\n",
    "2. R\n",
    "3. SQL"
   ]
  },
  {
   "cell_type": "markdown",
   "id": "5897ea36-0cc2-4a38-b00c-2e1a694b5eb0",
   "metadata": {},
   "source": [
    "# Some of the commonly used libraries used by Data Scientists include:\n",
    "1. NumPy\n",
    "2. Pandas\n",
    "3. PyTorch\n",
    "4. SciPy"
   ]
  },
  {
   "cell_type": "markdown",
   "id": "c20713f4-dcd4-450c-bf47-8eed1cdda983",
   "metadata": {},
   "source": [
    "| Data Science Tools |\n",
    "|--------------------|\n",
    "| Jupyter Notebook   |\n",
    "| RStudio            |\n",
    "| Apache Zeppelin    |"
   ]
  },
  {
   "cell_type": "markdown",
   "id": "a88f141b-bec4-499c-a35e-46863b4f897d",
   "metadata": {},
   "source": [
    "### Below are a few examples of evaluating arithmetic expressions in Python\n",
    "\n",
    "a = 2\n",
    "\n",
    "b = 3\n",
    "\n",
    "added = a + b\n",
    "\n",
    "subtracted = a - b\n",
    "\n",
    "multiplied = a * b\n",
    "\n",
    "\n",
    "print(added)\n",
    "\n",
    "print(subtracted)\n",
    "\n",
    "print(multiplied)"
   ]
  },
  {
   "cell_type": "code",
   "execution_count": 20,
   "id": "140cc6d0-f6ba-495b-a42c-226a8d6e7a79",
   "metadata": {},
   "outputs": [
    {
     "data": {
      "text/plain": [
       "17"
      ]
     },
     "execution_count": 20,
     "metadata": {},
     "output_type": "execute_result"
    }
   ],
   "source": [
    "# This a simple arithmetic expression to mutiply then add integers\n",
    "\n",
    "(3*4)+5"
   ]
  },
  {
   "cell_type": "code",
   "execution_count": 22,
   "id": "0fc71157-26bb-4b5d-828e-2070408254d7",
   "metadata": {},
   "outputs": [
    {
     "name": "stdout",
     "output_type": "stream",
     "text": [
      "200 minutes is 3.3333333333333335 hours\n"
     ]
    }
   ],
   "source": [
    "# Convert 200 minutes to hours\n",
    "minutes = 200\n",
    "hours = minutes / 60  \n",
    "print(\"200 minutes is\", hours, \"hours\")"
   ]
  },
  {
   "cell_type": "markdown",
   "id": "55f1bf7b-30b3-4a50-8162-230eeda1b799",
   "metadata": {},
   "source": [
    "## Author\n",
    "Leo"
   ]
  },
  {
   "cell_type": "code",
   "execution_count": null,
   "id": "0b8efe0d-857e-44cb-98db-be009db546fb",
   "metadata": {},
   "outputs": [],
   "source": []
  }
 ],
 "metadata": {
  "kernelspec": {
   "display_name": "Python [conda env:base] *",
   "language": "python",
   "name": "conda-base-py"
  },
  "language_info": {
   "codemirror_mode": {
    "name": "ipython",
    "version": 3
   },
   "file_extension": ".py",
   "mimetype": "text/x-python",
   "name": "python",
   "nbconvert_exporter": "python",
   "pygments_lexer": "ipython3",
   "version": "3.12.7"
  }
 },
 "nbformat": 4,
 "nbformat_minor": 5
}
